{
 "cells": [
  {
   "cell_type": "code",
   "execution_count": 1,
   "metadata": {},
   "outputs": [],
   "source": [
    "# import modules\n",
    "import numpy as np"
   ]
  },
  {
   "cell_type": "code",
   "execution_count": 9,
   "metadata": {},
   "outputs": [
    {
     "name": "stdout",
     "output_type": "stream",
     "text": [
      "If Monty is able to open a door containing a goat then...\n",
      "\n",
      "The odds on the user having selected a door with no goat is 0.37345144412013254\n",
      "The odds on the remaining door having no goat is 0.49876834742791387\n"
     ]
    }
   ],
   "source": [
    "#initialise empty lists for the user's door choice outcome and the remaining door outcome \n",
    "user_choice_outcomes = []\n",
    "remaining_door_outcomes = []\n",
    "monty_choice_outcomes = []\n",
    "\n",
    "# DEFINE THE METHOD, AND RE-RUN 500000 TIMES\n",
    "\n",
    "for x in range(500000):\n",
    "\n",
    "    # initialise variable containing number of goats to be placed (either 0, 1, 2, or 3)\n",
    "    no_of_goats = np.random.choice([0, 1, 2, 3])\n",
    "    orig_no_of_goats = no_of_goats.copy()\n",
    "    \n",
    "    # intialise the door variables as 0 (indicating no goat placed there), and a list of door_choices\n",
    "    door_a = 0\n",
    "    door_b = 0\n",
    "    door_c = 0\n",
    "    doors = ['a', 'b', 'c']\n",
    "\n",
    "    # place the goats randomly behind the doors\n",
    "    while no_of_goats > 0:\n",
    "        goat_placed = np.random.choice(doors)\n",
    "        if goat_placed == 'a':\n",
    "            door_a = 1\n",
    "        elif goat_placed == 'b':\n",
    "            door_b = 1\n",
    "        else:\n",
    "            door_c = 1\n",
    "        doors.remove(goat_placed)\n",
    "        no_of_goats = no_of_goats - 1\n",
    "\n",
    "    # randomly select a door for the user, and append the result to user_choice_outcome\n",
    "    # remove this door from the remaining door choices list\n",
    "    door_choices = [door_a, door_b, door_c]\n",
    "    user_choice = np.random.choice(door_choices)\n",
    "    door_choices.remove(user_choice)\n",
    "    \n",
    "    # determine whether there are any other goats placed, and therefore if Monty can choose a door\n",
    "    # note: we do not need to record outcomes where there are no other goats remaining behing the doors\n",
    "    if np.sum(door_choices) == 2:\n",
    "        monty_choice_outcomes.append(1)\n",
    "        remaining_door_outcomes.append(1)\n",
    "        user_choice_outcomes.append(user_choice)\n",
    "    elif np.sum(door_choices) == 1:\n",
    "        monty_choice_outcomes.append(max(door_choices))\n",
    "        remaining_door_outcomes.append(min(door_choices))\n",
    "        user_choice_outcomes.append(user_choice)\n",
    "        \n",
    "user_odds = 1 - np.mean(user_choice_outcomes)\n",
    "remaining_door_odds = 1 - np.mean(remaining_door_outcomes)\n",
    "\n",
    "print(\"If Monty is able to open a door containing a goat then...\\n\")\n",
    "print(\"The odds on the user having selected a door with no goat is \" + str(user_odds))\n",
    "print(\"The odds on the remaining door having no goat is \" + str(remaining_door_odds))\n"
   ]
  }
 ],
 "metadata": {
  "kernelspec": {
   "display_name": "Python 3",
   "language": "python",
   "name": "python3"
  },
  "language_info": {
   "codemirror_mode": {
    "name": "ipython",
    "version": 3
   },
   "file_extension": ".py",
   "mimetype": "text/x-python",
   "name": "python",
   "nbconvert_exporter": "python",
   "pygments_lexer": "ipython3",
   "version": "3.6.5"
  }
 },
 "nbformat": 4,
 "nbformat_minor": 2
}
